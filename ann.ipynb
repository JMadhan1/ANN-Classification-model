import pandas as pd
import numpy as np
from sklearn.model_selection import train_test_split
from sklearn.preprocessing import StandardScaler
from sklearn.metrics import confusion_matrix, classification_report, accuracy_score
import tensorflow as tf
from tensorflow.keras.models import Sequential
from tensorflow.keras.layers import Dense

# Load dataset
df = pd.read_csv(r'C:\Users\DELL\OneDrive\Desktop\ANN\dataset\Churn_Modelling (AI).csv')

# 1. Handling null values (if any)
df.isnull().sum()  # If there are any null values, you can handle them accordingly
df.dropna(inplace=True)  # Dropping null values (if present)

# 2. Handling duplicates
df.drop_duplicates(inplace=True)

# 3. Encoding categorical variables
df = pd.get_dummies(df, columns=['Geography', 'Gender'], drop_first=True)

# 4. Selecting independent (X) and dependent (y) variables
X = df.drop(columns=['RowNumber', 'CustomerId', 'Surname', 'Exited'])
y = df['Exited']

# 5. Splitting the dataset into training and testing sets
X_train, X_test, y_train, y_test = train_test_split(X, y, test_size=0.2, random_state=42)

# 6. Feature Scaling
sc = StandardScaler()
X_train = sc.fit_transform(X_train)
X_test = sc.transform(X_test)

# 7. Building the ANN model
model = Sequential()

# Adding input and first hidden layer
model.add(Dense(units=6, activation='relu', input_dim=X_train.shape[1]))

# Adding second hidden layer
model.add(Dense(units=6, activation='relu'))

# Adding output layer
model.add(Dense(units=1, activation='sigmoid'))

# Compiling the ANN
model.compile(optimizer='adam', loss='binary_crossentropy', metrics=['accuracy'])

# 8. Training the ANN
model.fit(X_train, y_train, batch_size=32, epochs=100)

# 9. Predicting the test set results
y_pred = (model.predict(X_test) > 0.5).astype(int)

# 10. Compute classification metrics
cm = confusion_matrix(y_test, y_pred)
cr = classification_report(y_test, y_pred)
accuracy = accuracy_score(y_test, y_pred)

print("Confusion Matrix:\n", cm)
print("\nClassification Report:\n", cr)
print("\nAccuracy:", accuracy)
